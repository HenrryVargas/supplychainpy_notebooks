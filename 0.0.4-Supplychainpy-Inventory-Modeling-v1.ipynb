{
 "cells": [
  {
   "cell_type": "markdown",
   "metadata": {},
   "source": [
    "# Inventory Modeling and Analysis Made Easy with Supplychainpy\n",
    "** *by Kevin Fasusi* **\n",
    "\n",
    "This workbook assumes some familiarity and proficiency in programming with Python. Understanding list comprehensions, conditional logic and functions are an essential prerequisite for continuing with this workbook.\n",
    "\n",
    "Typically, inventory analysis using Excel requires several formulas, manual processes, possibly some pivot tables and in some cases VBA to achieve. Using the supplychainpy library can reduce the time taken and effort made for the same analysis."
   ]
  },
  {
   "cell_type": "code",
   "execution_count": 1,
   "metadata": {
    "collapsed": true
   },
   "outputs": [],
   "source": [
    "from supplychainpy.model_inventory import analyse\n",
    "from decimal import Decimal\n",
    "from supplychainpy.sample_data.config import ABS_FILE_PATH"
   ]
  },
  {
   "cell_type": "markdown",
   "metadata": {},
   "source": [
    "The first two imports are mandatory; the second import is necessary for using the sample data in the `supplychainpy` library. When working with a different file, supply the file path to the `file_path` parameter. The data provided for analysis can be from a `CSV` or a database ETL process.\n",
    "\n",
    "The sample data is a `CSV` formatted file:"
   ]
  },
  {
   "cell_type": "code",
   "execution_count": 2,
   "metadata": {
    "collapsed": false
   },
   "outputs": [
    {
     "name": "stdout",
     "output_type": "stream",
     "text": [
      "Sku,jan,feb,mar,apr,may,jun,jul,aug,sep,oct,nov,dec,unit cost,lead-time,retail_price,quantity_on_hand,backlog\n",
      "\n",
      "KR202-209,1509,1855,2665,1841,1231,2598,1988,1988,2927,2707,731,2598,1001,2,5000,1003,10\n",
      "\n",
      "KR202-210,1006,206,2588,670,2768,2809,1475,1537,919,2525,440,2691,394,2,1300,3224,10\n",
      "\n",
      "KR202-211,1840,2284,850,983,2737,1264,2002,1980,235,1489,218,525,434,4,1200,390,10\n",
      "\n",
      "KR202-212,104,2262,350,528,2570,1216,1101,2755,2856,2381,1867,2743,474,3,10,390,10\n",
      "\n",
      "KR202-213,489,954,1112,199,919,330,561,2372,921,1587,1532,1512,514,1,2000,2095,10\n",
      "\n",
      "KR202-214,2416,2010,2527,1409,1059,890,2837,276,987,2228,1095,1396,554,2,1800,55,10\n",
      "\n",
      "KR202-215,403,1737,753,1982,2775,380,1561,1230,1262,2249,824,743,594,1,2500,4308,10\n",
      "\n",
      "KR202-216,2908,929,684,2618,1477,1508,765,43,2550,2157,937,1201,634,3,3033,34,10\n",
      "\n",
      "KR202-217,2799,2197,1647,2263,224,2987,2366,588,1140,869,1707,1180,674,3,5433,390,10\n",
      "\n",
      "KR202-218,1333,402,804,318,1408,830,1028,534,1871,2730,2022,94,714,2,3034,3535,10\n",
      "\n",
      "KR202-219,813,969,745,1001,2732,1987,717,599,2722,171,639,2108,754,3,5000,334,10\n",
      "\n",
      "KR202-220,1481,905,1067,2513,861,1670,650,2630,1245,997,1936,2780,794,3,7500,3434,10\n",
      "\n",
      "KR202-221,771,2941,1360,2714,1801,1744,1428,1660,436,578,1956,1101,834,2,4938,4433,10\n",
      "\n",
      "KR202-222,2349,4,345,524,340,2698,2137,1164,498,1583,1241,2965,874,2,4922,3435,10\n",
      "\n",
      "KR202-223,2045,2055,552,81,2780,176,2316,1475,2566,1678,1553,2745,914,1,4894,34533,10\n",
      "\n",
      "KR202-224,2482,1887,1911,1446,2939,1241,1281,692,119,627,1941,1383,954,2,2942,33,10\n",
      "\n",
      "KR202-225,2744,2770,2697,1726,1776,2264,332,2420,2722,1161,1986,2587,994,6,8999,2000,10\n",
      "\n",
      "KR202-226,2509,914,903,877,1859,2263,383,593,236,189,920,1686,1034,3,4342,4344,10\n",
      "\n",
      "KR202-227,368,2502,2955,2994,1270,2884,2208,699,854,877,2320,160,1074,3,4920,489,10\n",
      "\n",
      "KR202-228,1468,1109,2464,2799,948,589,2858,1140,501,2691,93,1060,1114,2,15000,9439,10\n",
      "\n",
      "KR202-229,2114,198,1479,1249,1475,744,407,2280,226,2285,796,1948,1154,2,13000,8939,10\n",
      "\n",
      "KR202-230,1023,1150,1672,2026,1590,441,2484,2300,2928,1082,2064,2412,1194,2,10000,349,10\n",
      "\n",
      "KR202-231,482,546,299,2304,2953,1029,1863,2809,454,927,2488,2341,1234,4,9999,3434,10\n",
      "\n",
      "KR202-232,614,2138,962,2017,2398,2963,2189,1804,414,2016,1350,2464,1274,2,7500,234,10\n",
      "\n",
      "KR202-233,2395,2521,2157,728,1028,43,138,826,570,2825,181,787,1314,4,6000,349,10\n",
      "\n",
      "KR202-234,1336,1478,865,533,1562,422,2287,1302,1230,1059,1153,399,1354,2,20000,324,10\n",
      "\n",
      "KR202-235,2565,2762,2721,1431,845,2163,2413,2227,1753,740,1139,2300,1394,3,59500,850,10\n",
      "\n",
      "KR202-236,1912,1726,1569,316,71,2082,108,174,1974,609,2896,566,1434,3,2300,4930,10\n",
      "\n",
      "KR202-237,2153,1112,16,130,590,2619,2576,2390,2567,1531,842,242,1474,2,4500,9483,10\n",
      "\n",
      "KR202-238,1417,2044,1981,1936,2377,780,1544,1521,51,1056,1876,1356,1514,3,8000,839,10\n",
      "\n",
      "KR202-239,2717,2186,2300,677,2157,2328,1917,2519,561,281,1162,1146,1554,2,39000,433,10\n",
      "\n",
      "KR202-240,1015,741,2754,2925,2302,695,2869,440,406,1083,2334,1015,1594,3,3943,390,10\n",
      "\n",
      "KR202-241,3050,1507,3637,1112,1963,1675,898,1986,2262,3895,1229,2904,769,5,8007,2125,10\n",
      "\n",
      "KR202-242,1875,2368,830,823,868,1409,1845,3095,3247,1894,2558,3048,1819,1,13225,1253,10\n",
      "\n",
      "KR202-243,1717,593,3006,2935,3139,2753,3247,3845,1720,3413,3399,2799,1120,3,14682,1128,10\n",
      "\n",
      "KR202-244,2383,2046,2487,3827,1674,3118,2849,2233,3888,2566,2216,3817,1067,5,11997,1191,10\n",
      "\n",
      "KR202-245,1115,2694,3038,3366,1058,2724,2863,1930,1787,838,3087,1565,1623,2,12876,611,10\n",
      "\n",
      "KR202-246,3108,1197,2472,1264,3179,3638,1268,1581,3456,1630,1788,2288,608,2,6548,2192,10\n",
      "\n",
      "KR202-247,3439,1854,652,1827,1645,2257,2733,1337,2034,2106,877,2409,1578,2,10463,1017,10\n"
     ]
    }
   ],
   "source": [
    "with open(ABS_FILE_PATH['COMPLETE_CSV_SM'],'r') as raw_data:\n",
    "    for line in raw_data:\n",
    "        print(line)"
   ]
  },
  {
   "cell_type": "markdown",
   "metadata": {},
   "source": [
    "It is probable that getting the data into this format will require 'extracting' from a database and 'transforming' data before 'loading' into the `analyse` function. To perform the ETL, an ORM like SQLAlchemy or appropriate DB-API for the database in question may be of use. Supplychainpy works with Pandas, so performing the transformations using Pandas may be an idea. The `DataFrame` or file passed as an argument must be identical to the format above (future versions of supplychainpy will be more lenient and attempt to identify if a minimum requirement is satisfied).\n",
    "\n",
    "The ETL process is not covered in this workbook but on the 'roadmap' for `supplychainpy` is the automation of this process. \n",
    "\n",
    "So now that we have the data in the correct format, we can proceed with the analysis."
   ]
  },
  {
   "cell_type": "code",
   "execution_count": 3,
   "metadata": {
    "collapsed": true
   },
   "outputs": [],
   "source": [
    "#%%timeit\n",
    "analysed_inventory_profile= analyse(file_path=ABS_FILE_PATH['COMPLETE_CSV_SM'],\n",
    "                                                             z_value=Decimal(1.28),\n",
    "                                                             reorder_cost=Decimal(400),\n",
    "                                                             file_type='csv')\n"
   ]
  },
  {
   "cell_type": "markdown",
   "metadata": {},
   "source": [
    "The variable `analysed_inventory_profile` now contains a collection (list) of `UncertainDemand` objects (one per SKU). Each object contains the analysis for each SKU. The analysis include the following:\n",
    "\n",
    "- safety stock\n",
    "- total_orders\n",
    "- standard_deviation\n",
    "- quantity_on_hand': '1003\n",
    "- economic_order_variable_cost\n",
    "- sku\n",
    "- economic_order_quantity\n",
    "- unit_cost\n",
    "- demand_variability\n",
    "- average_orders\n",
    "- excess_stock\n",
    "- currency\n",
    "- ABC_XYZ_Classification\n",
    "- shortages\n",
    "- reorder_level\n",
    "- revenue \n",
    "- reorder_quantity \n",
    "- safety_stock\n",
    "- orders\n",
    "\n",
    "The listed summary items can be retrieved by calling the method `orders_summary()` on each object. The quickest way to do this is with a list comprehension."
   ]
  },
  {
   "cell_type": "code",
   "execution_count": 6,
   "metadata": {
    "collapsed": false
   },
   "outputs": [
    {
     "name": "stdout",
     "output_type": "stream",
     "text": [
      "[{'reorder_level': '4069', 'unit_cost': '1001', 'economic_order_variable_cost': '15708.41', 'reorder_quantity': '13', 'safety_stock': '1165', 'quantity_on_hand': '1003', 'shortages': '5969', 'sku': 'KR202-209', 'revenue': '123190000', 'average_orders': '2053.1667', 'standard_deviation': '644', 'currency': 'UNKNOWN', 'economic_order_quantity': '44', 'demand_variability': '0.314', 'total_orders': '24638', 'ABC_XYZ_Classification': 'BY', 'excess_stock': '0', 'orders': {'demand': ('1509', '1855', '2665', '1841', '1231', '2598', '1988', '1988', '2927', '2707', '731', '2598')}}, {'reorder_level': '4033', 'unit_cost': '394', 'economic_order_variable_cost': '8797.61', 'reorder_quantity': '18', 'safety_stock': '1719', 'quantity_on_hand': '3224', 'shortages': '0', 'sku': 'KR202-210', 'revenue': '25524200', 'average_orders': '1636.1667', 'standard_deviation': '950', 'currency': 'UNKNOWN', 'economic_order_quantity': '63', 'demand_variability': '0.580', 'total_orders': '19634', 'ABC_XYZ_Classification': 'CY', 'excess_stock': '0', 'orders': {'demand': ('1006', '206', '2588', '670', '2768', '2809', '1475', '1537', '919', '2525', '440', '2691')}}, {'reorder_level': '4754', 'unit_cost': '434', 'economic_order_variable_cost': '8440.57', 'reorder_quantity': '16', 'safety_stock': '2020', 'quantity_on_hand': '390', 'shortages': '7099', 'sku': 'KR202-211', 'revenue': '19688400', 'average_orders': '1367.25', 'standard_deviation': '789', 'currency': 'UNKNOWN', 'economic_order_quantity': '55', 'demand_variability': '0.577', 'total_orders': '16407', 'ABC_XYZ_Classification': 'CY', 'excess_stock': '0', 'orders': {'demand': ('1840', '2284', '850', '983', '2737', '1264', '2002', '1980', '235', '1489', '218', '525')}}, {'reorder_level': '5156', 'unit_cost': '474', 'economic_order_variable_cost': '9915.91', 'reorder_quantity': '17', 'safety_stock': '2164', 'quantity_on_hand': '390', 'shortages': '7759', 'sku': 'KR202-212', 'revenue': '207330', 'average_orders': '1727.75', 'standard_deviation': '976', 'currency': 'UNKNOWN', 'economic_order_quantity': '59', 'demand_variability': '0.565', 'total_orders': '20733', 'ABC_XYZ_Classification': 'CY', 'excess_stock': '0', 'orders': {'demand': ('104', '2262', '350', '528', '2570', '1216', '1101', '2755', '2856', '2381', '1867', '2743')}}, {'reorder_level': '1809', 'unit_cost': '514', 'economic_order_variable_cost': '8013.84', 'reorder_quantity': '13', 'safety_stock': '768', 'quantity_on_hand': '2095', 'shortages': '0', 'sku': 'KR202-213', 'revenue': '24976000', 'average_orders': '1040.6667', 'standard_deviation': '600', 'currency': 'UNKNOWN', 'economic_order_quantity': '44', 'demand_variability': '0.577', 'total_orders': '12488', 'ABC_XYZ_Classification': 'CY', 'excess_stock': '0', 'orders': {'demand': ('489', '954', '1112', '199', '919', '330', '561', '2372', '921', '1587', '1532', '1512')}}, {'reorder_level': '3625', 'unit_cost': '554', 'economic_order_variable_cost': '10297.33', 'reorder_quantity': '15', 'safety_stock': '1370', 'quantity_on_hand': '55', 'shortages': '5824', 'sku': 'KR202-214', 'revenue': '34434000', 'average_orders': '1594.1667', 'standard_deviation': '757', 'currency': 'UNKNOWN', 'economic_order_quantity': '52', 'demand_variability': '0.475', 'total_orders': '19130', 'ABC_XYZ_Classification': 'CY', 'excess_stock': '0', 'orders': {'demand': ('2416', '2010', '2527', '1409', '1059', '890', '2837', '276', '987', '2228', '1095', '1396')}}, {'reorder_level': '2251', 'unit_cost': '594', 'economic_order_variable_cost': '9720.54', 'reorder_quantity': '13', 'safety_stock': '926', 'quantity_on_hand': '4308', 'shortages': '0', 'sku': 'KR202-215', 'revenue': '39747500', 'average_orders': '1324.9167', 'standard_deviation': '724', 'currency': 'UNKNOWN', 'economic_order_quantity': '46', 'demand_variability': '0.546', 'total_orders': '15899', 'ABC_XYZ_Classification': 'CY', 'excess_stock': '732', 'orders': {'demand': ('403', '1737', '753', '1982', '2775', '380', '1561', '1230', '1262', '2249', '824', '743')}}, {'reorder_level': '4467', 'unit_cost': '634', 'economic_order_variable_cost': '10619.06', 'reorder_quantity': '14', 'safety_stock': '1901', 'quantity_on_hand': '34', 'shortages': '6999', 'sku': 'KR202-216', 'revenue': '53917641', 'average_orders': '1481.4167', 'standard_deviation': '858', 'currency': 'UNKNOWN', 'economic_order_quantity': '47', 'demand_variability': '0.579', 'total_orders': '17777', 'ABC_XYZ_Classification': 'CY', 'excess_stock': '0', 'orders': {'demand': ('2908', '929', '684', '2618', '1477', '1508', '765', '43', '2550', '2157', '937', '1201')}}, {'reorder_level': '4753', 'unit_cost': '674', 'economic_order_variable_cost': '11603.76', 'reorder_quantity': '14', 'safety_stock': '1871', 'quantity_on_hand': '390', 'shortages': '7245', 'sku': 'KR202-217', 'revenue': '108480711', 'average_orders': '1663.9167', 'standard_deviation': '844', 'currency': 'UNKNOWN', 'economic_order_quantity': '48', 'demand_variability': '0.507', 'total_orders': '19967', 'ABC_XYZ_Classification': 'BY', 'excess_stock': '0', 'orders': {'demand': ('2799', '2197', '1647', '2263', '224', '2987', '2366', '588', '1140', '869', '1707', '1180')}}, {'reorder_level': '2943', 'unit_cost': '714', 'economic_order_variable_cost': '9774.45', 'reorder_quantity': '11', 'safety_stock': '1367', 'quantity_on_hand': '3535', 'shortages': '0', 'sku': 'KR202-218', 'revenue': '40576716', 'average_orders': '1114.5', 'standard_deviation': '755', 'currency': 'UNKNOWN', 'economic_order_quantity': '39', 'demand_variability': '0.678', 'total_orders': '13374', 'ABC_XYZ_Classification': 'CZ', 'excess_stock': '0', 'orders': {'demand': ('1333', '402', '804', '318', '1408', '830', '1028', '534', '1871', '2730', '2022', '94')}}, {'reorder_level': '4057', 'unit_cost': '754', 'economic_order_variable_cost': '10709.34', 'reorder_quantity': '12', 'safety_stock': '1863', 'quantity_on_hand': '334', 'shortages': '5917', 'sku': 'KR202-219', 'revenue': '76015000', 'average_orders': '1266.9167', 'standard_deviation': '840', 'currency': 'UNKNOWN', 'economic_order_quantity': '40', 'demand_variability': '0.663', 'total_orders': '15203', 'ABC_XYZ_Classification': 'CZ', 'excess_stock': '0', 'orders': {'demand': ('813', '969', '745', '1001', '2732', '1987', '717', '599', '2722', '171', '639', '2108')}}, {'reorder_level': '4286', 'unit_cost': '794', 'economic_order_variable_cost': '12199.71', 'reorder_quantity': '13', 'safety_stock': '1581', 'quantity_on_hand': '3434', 'shortages': '0', 'sku': 'KR202-220', 'revenue': '140512500', 'average_orders': '1561.25', 'standard_deviation': '713', 'currency': 'UNKNOWN', 'economic_order_quantity': '43', 'demand_variability': '0.457', 'total_orders': '18735', 'ABC_XYZ_Classification': 'BY', 'excess_stock': '0', 'orders': {'demand': ('1481', '905', '1067', '2513', '861', '1670', '650', '2630', '1245', '997', '1936', '2780')}}, {'reorder_level': '3523', 'unit_cost': '834', 'economic_order_variable_cost': '12421.21', 'reorder_quantity': '12', 'safety_stock': '1344', 'quantity_on_hand': '4433', 'shortages': '0', 'sku': 'KR202-221', 'revenue': '91303620', 'average_orders': '1540.8333', 'standard_deviation': '742', 'currency': 'UNKNOWN', 'economic_order_quantity': '42', 'demand_variability': '0.482', 'total_orders': '18490', 'ABC_XYZ_Classification': 'BY', 'excess_stock': '0', 'orders': {'demand': ('771', '2941', '1360', '2714', '1801', '1744', '1428', '1660', '436', '578', '1956', '1101')}}, {'reorder_level': '3631', 'unit_cost': '874', 'economic_order_variable_cost': '11772.14', 'reorder_quantity': '11', 'safety_stock': '1763', 'quantity_on_hand': '3435', 'shortages': '0', 'sku': 'KR202-222', 'revenue': '78003856', 'average_orders': '1320.6667', 'standard_deviation': '974', 'currency': 'UNKNOWN', 'economic_order_quantity': '38', 'demand_variability': '0.737', 'total_orders': '15848', 'ABC_XYZ_Classification': 'CZ', 'excess_stock': '0', 'orders': {'demand': ('2349', '4', '345', '524', '340', '2698', '2137', '1164', '498', '1583', '1241', '2965')}}, {'reorder_level': '2834', 'unit_cost': '914', 'economic_order_variable_cost': '13531.29', 'reorder_quantity': '12', 'safety_stock': '1166', 'quantity_on_hand': '34533', 'shortages': '0', 'sku': 'KR202-223', 'revenue': '97987668', 'average_orders': '1668.5', 'standard_deviation': '911', 'currency': 'UNKNOWN', 'economic_order_quantity': '42', 'demand_variability': '0.546', 'total_orders': '20022', 'ABC_XYZ_Classification': 'BY', 'excess_stock': '30030', 'orders': {'demand': ('2045', '2055', '552', '81', '2780', '176', '2316', '1475', '2566', '1678', '1553', '2745')}}, {'reorder_level': '3498', 'unit_cost': '954', 'economic_order_variable_cost': '13089.01', 'reorder_quantity': '11', 'safety_stock': '1383', 'quantity_on_hand': '33', 'shortages': '5580', 'sku': 'KR202-224', 'revenue': '52805958', 'average_orders': '1495.75', 'standard_deviation': '764', 'currency': 'UNKNOWN', 'economic_order_quantity': '39', 'demand_variability': '0.511', 'total_orders': '17949', 'ABC_XYZ_Classification': 'CY', 'excess_stock': '0', 'orders': {'demand': ('2482', '1887', '1911', '1446', '2939', '1241', '1281', '692', '119', '627', '1941', '1383')}}, {'reorder_level': '7402', 'unit_cost': '994', 'economic_order_variable_cost': '15826.20', 'reorder_quantity': '13', 'safety_stock': '2261', 'quantity_on_hand': '2000', 'shortages': '10542', 'sku': 'KR202-225', 'revenue': '226639815', 'average_orders': '2098.75', 'standard_deviation': '721', 'currency': 'UNKNOWN', 'economic_order_quantity': '45', 'demand_variability': '0.344', 'total_orders': '25185', 'ABC_XYZ_Classification': 'AY', 'excess_stock': '0', 'orders': {'demand': ('2744', '2770', '2697', '1726', '1776', '2264', '332', '2420', '2722', '1161', '1986', '2587')}}, {'reorder_level': '3588', 'unit_cost': '1034', 'economic_order_variable_cost': '11744.12', 'reorder_quantity': '9', 'safety_stock': '1664', 'quantity_on_hand': '4344', 'shortages': '0', 'sku': 'KR202-226', 'revenue': '57887544', 'average_orders': '1111', 'standard_deviation': '750', 'currency': 'UNKNOWN', 'economic_order_quantity': '32', 'demand_variability': '0.676', 'total_orders': '13332', 'ABC_XYZ_Classification': 'CZ', 'excess_stock': '0', 'orders': {'demand': ('2509', '914', '903', '877', '1859', '2263', '383', '593', '236', '189', '920', '1686')}}, {'reorder_level': '5177', 'unit_cost': '1074', 'economic_order_variable_cost': '14693.16', 'reorder_quantity': '11', 'safety_stock': '2277', 'quantity_on_hand': '489', 'shortages': '7587', 'sku': 'KR202-227', 'revenue': '98847720', 'average_orders': '1674.25', 'standard_deviation': '1027', 'currency': 'UNKNOWN', 'economic_order_quantity': '39', 'demand_variability': '0.613', 'total_orders': '20091', 'ABC_XYZ_Classification': 'BZ', 'excess_stock': '0', 'orders': {'demand': ('368', '2502', '2955', '2994', '1270', '2884', '2208', '699', '854', '877', '2320', '160')}}, {'reorder_level': '3779', 'unit_cost': '1114', 'economic_order_variable_cost': '14053.58', 'reorder_quantity': '10', 'safety_stock': '1690', 'quantity_on_hand': '9439', 'shortages': '0', 'sku': 'KR202-228', 'revenue': '265800000', 'average_orders': '1476.6667', 'standard_deviation': '934', 'currency': 'UNKNOWN', 'economic_order_quantity': '36', 'demand_variability': '0.632', 'total_orders': '17720', 'ABC_XYZ_Classification': 'AZ', 'excess_stock': '3572', 'orders': {'demand': ('1468', '1109', '2464', '2799', '948', '589', '2858', '1140', '501', '2691', '93', '1060')}}, {'reorder_level': '3153', 'unit_cost': '1154', 'economic_order_variable_cost': '13248.03', 'reorder_quantity': '9', 'safety_stock': '1362', 'quantity_on_hand': '8939', 'shortages': '0', 'sku': 'KR202-229', 'revenue': '197613000', 'average_orders': '1266.75', 'standard_deviation': '752', 'currency': 'UNKNOWN', 'economic_order_quantity': '32', 'demand_variability': '0.594', 'total_orders': '15201', 'ABC_XYZ_Classification': 'AY', 'excess_stock': '3994', 'orders': {'demand': ('2114', '198', '1479', '1249', '1475', '744', '407', '2280', '226', '2285', '796', '1948')}}, {'reorder_level': '3767', 'unit_cost': '1194', 'economic_order_variable_cost': '15903.60', 'reorder_quantity': '11', 'safety_stock': '1271', 'quantity_on_hand': '349', 'shortages': '5913', 'sku': 'KR202-230', 'revenue': '211720000', 'average_orders': '1764.3333', 'standard_deviation': '702', 'currency': 'UNKNOWN', 'economic_order_quantity': '37', 'demand_variability': '0.398', 'total_orders': '21172', 'ABC_XYZ_Classification': 'AY', 'excess_stock': '0', 'orders': {'demand': ('1023', '1150', '1672', '2026', '1590', '441', '2484', '2300', '2928', '1082', '2064', '2412')}}, {'reorder_level': '5567', 'unit_cost': '1234', 'economic_order_variable_cost': '15111.14', 'reorder_quantity': '10', 'safety_stock': '2484', 'quantity_on_hand': '3434', 'shortages': '0', 'sku': 'KR202-231', 'revenue': '184931505', 'average_orders': '1541.25', 'standard_deviation': '970', 'currency': 'UNKNOWN', 'economic_order_quantity': '34', 'demand_variability': '0.630', 'total_orders': '18495', 'ABC_XYZ_Classification': 'AZ', 'excess_stock': '0', 'orders': {'demand': ('482', '546', '299', '2304', '2953', '1029', '1863', '2809', '454', '927', '2488', '2341')}}, {'reorder_level': '3870', 'unit_cost': '1274', 'economic_order_variable_cost': '16488.55', 'reorder_quantity': '11', 'safety_stock': '1356', 'quantity_on_hand': '234', 'shortages': '6150', 'sku': 'KR202-232', 'revenue': '159967500', 'average_orders': '1777.4167', 'standard_deviation': '749', 'currency': 'UNKNOWN', 'economic_order_quantity': '36', 'demand_variability': '0.422', 'total_orders': '21329', 'ABC_XYZ_Classification': 'AY', 'excess_stock': '0', 'orders': {'demand': ('614', '2138', '962', '2017', '2398', '2963', '2189', '1804', '414', '2016', '1350', '2464')}}, {'reorder_level': '4839', 'unit_cost': '1314', 'economic_order_variable_cost': '13662.78', 'reorder_quantity': '8', 'safety_stock': '2472', 'quantity_on_hand': '349', 'shortages': '6856', 'sku': 'KR202-233', 'revenue': '85194000', 'average_orders': '1183.25', 'standard_deviation': '966', 'currency': 'UNKNOWN', 'economic_order_quantity': '29', 'demand_variability': '0.816', 'total_orders': '14199', 'ABC_XYZ_Classification': 'CZ', 'excess_stock': '0', 'orders': {'demand': ('2395', '2521', '2157', '728', '1028', '43', '138', '826', '570', '2825', '181', '787')}}, {'reorder_level': '2540', 'unit_cost': '1354', 'economic_order_variable_cost': '13586.45', 'reorder_quantity': '8', 'safety_stock': '934', 'quantity_on_hand': '324', 'shortages': '3822', 'sku': 'KR202-234', 'revenue': '272520000', 'average_orders': '1135.5', 'standard_deviation': '516', 'currency': 'UNKNOWN', 'economic_order_quantity': '28', 'demand_variability': '0.454', 'total_orders': '13626', 'ABC_XYZ_Classification': 'AY', 'excess_stock': '0', 'orders': {'demand': ('1336', '1478', '865', '533', '1562', '422', '2287', '1302', '1230', '1059', '1153', '399')}}, {'reorder_level': '4861', 'unit_cost': '1394', 'economic_order_variable_cost': '17933.46', 'reorder_quantity': '11', 'safety_stock': '1532', 'quantity_on_hand': '850', 'shortages': '7339', 'sku': 'KR202-235', 'revenue': '1372010500', 'average_orders': '1921.5833', 'standard_deviation': '691', 'currency': 'UNKNOWN', 'economic_order_quantity': '36', 'demand_variability': '0.360', 'total_orders': '23059', 'ABC_XYZ_Classification': 'AY', 'excess_stock': '0', 'orders': {'demand': ('2565', '2762', '2721', '1431', '845', '2163', '2413', '2227', '1753', '740', '1139', '2300')}}, {'reorder_level': '4066', 'unit_cost': '1434', 'economic_order_variable_cost': '14174.17', 'reorder_quantity': '8', 'safety_stock': '2045', 'quantity_on_hand': '4930', 'shortages': '0', 'sku': 'KR202-236', 'revenue': '32206900', 'average_orders': '1166.9167', 'standard_deviation': '923', 'currency': 'UNKNOWN', 'economic_order_quantity': '28', 'demand_variability': '0.791', 'total_orders': '14003', 'ABC_XYZ_Classification': 'CZ', 'excess_stock': '0', 'orders': {'demand': ('1912', '1726', '1569', '316', '71', '2082', '108', '174', '1974', '609', '2896', '566')}}, {'reorder_level': '3765', 'unit_cost': '1474', 'economic_order_variable_cost': '15725.40', 'reorder_quantity': '9', 'safety_stock': '1789', 'quantity_on_hand': '9483', 'shortages': '0', 'sku': 'KR202-237', 'revenue': '75456000', 'average_orders': '1397.3333', 'standard_deviation': '988', 'currency': 'UNKNOWN', 'economic_order_quantity': '30', 'demand_variability': '0.707', 'total_orders': '16768', 'ABC_XYZ_Classification': 'CZ', 'excess_stock': '3742', 'orders': {'demand': ('2153', '1112', '16', '130', '590', '2619', '2576', '2390', '2567', '1531', '842', '242')}}, {'reorder_level': '3943', 'unit_cost': '1514', 'economic_order_variable_cost': '16484.45', 'reorder_quantity': '9', 'safety_stock': '1354', 'quantity_on_hand': '839', 'shortages': '5693', 'sku': 'KR202-238', 'revenue': '143512000', 'average_orders': '1494.9167', 'standard_deviation': '611', 'currency': 'UNKNOWN', 'economic_order_quantity': '31', 'demand_variability': '0.408', 'total_orders': '17939', 'ABC_XYZ_Classification': 'BY', 'excess_stock': '0', 'orders': {'demand': ('1417', '2044', '1981', '1936', '2377', '780', '1544', '1521', '51', '1056', '1876', '1356')}}, {'reorder_level': '3819', 'unit_cost': '1554', 'economic_order_variable_cost': '17612.47', 'reorder_quantity': '9', 'safety_stock': '1468', 'quantity_on_hand': '433', 'shortages': '5737', 'sku': 'KR202-239', 'revenue': '778089000', 'average_orders': '1662.5833', 'standard_deviation': '811', 'currency': 'UNKNOWN', 'economic_order_quantity': '32', 'demand_variability': '0.488', 'total_orders': '19951', 'ABC_XYZ_Classification': 'AY', 'excess_stock': '0', 'orders': {'demand': ('2717', '2186', '2300', '677', '2157', '2328', '1917', '2519', '561', '281', '1162', '1146')}}, {'reorder_level': '4802', 'unit_cost': '1594', 'economic_order_variable_cost': '17213.44', 'reorder_quantity': '9', 'safety_stock': '2120', 'quantity_on_hand': '390', 'shortages': '7094', 'sku': 'KR202-240', 'revenue': '73256997', 'average_orders': '1548.25', 'standard_deviation': '956', 'currency': 'UNKNOWN', 'economic_order_quantity': '30', 'demand_variability': '0.618', 'total_orders': '18579', 'ABC_XYZ_Classification': 'CZ', 'excess_stock': '0', 'orders': {'demand': ('1015', '741', '2754', '2925', '2302', '695', '2869', '440', '406', '1083', '2334', '1015')}}, {'reorder_level': '7586', 'unit_cost': '769', 'economic_order_variable_cost': '14175.73', 'reorder_quantity': '15', 'safety_stock': '2719', 'quantity_on_hand': '2125', 'shortages': '10328', 'sku': 'KR202-241', 'revenue': '209126826', 'average_orders': '2176.5', 'standard_deviation': '950', 'currency': 'UNKNOWN', 'economic_order_quantity': '52', 'demand_variability': '0.437', 'total_orders': '26118', 'ABC_XYZ_Classification': 'AY', 'excess_stock': '0', 'orders': {'demand': ('3050', '1507', '3637', '1112', '1963', '1675', '898', '1986', '2262', '3895', '1229', '2904')}}, {'reorder_level': '3080', 'unit_cost': '1819', 'economic_order_variable_cost': '20838.38', 'reorder_quantity': '9', 'safety_stock': '1092', 'quantity_on_hand': '1253', 'shortages': '0', 'sku': 'KR202-242', 'revenue': '315548500', 'average_orders': '1988.3333', 'standard_deviation': '853', 'currency': 'UNKNOWN', 'economic_order_quantity': '32', 'demand_variability': '0.429', 'total_orders': '23860', 'ABC_XYZ_Classification': 'AY', 'excess_stock': '0', 'orders': {'demand': ('1875', '2368', '830', '823', '868', '1409', '1845', '3095', '3247', '1894', '2558', '3048')}}, {'reorder_level': '6655', 'unit_cost': '1120', 'economic_order_variable_cost': '19103.09', 'reorder_quantity': '14', 'safety_stock': '1954', 'quantity_on_hand': '1128', 'shortages': '10227', 'sku': 'KR202-243', 'revenue': '478134012', 'average_orders': '2713.8333', 'standard_deviation': '882', 'currency': 'UNKNOWN', 'economic_order_quantity': '48', 'demand_variability': '0.325', 'total_orders': '32566', 'ABC_XYZ_Classification': 'AY', 'excess_stock': '0', 'orders': {'demand': ('1717', '593', '3006', '2935', '3139', '2753', '3247', '3845', '1720', '3413', '3399', '2799')}}, {'reorder_level': '8223', 'unit_cost': '1067', 'economic_order_variable_cost': '18799.00', 'reorder_quantity': '14', 'safety_stock': '2054', 'quantity_on_hand': '1191', 'shortages': '13200', 'sku': 'KR202-244', 'revenue': '397148688', 'average_orders': '2758.6667', 'standard_deviation': '718', 'currency': 'UNKNOWN', 'economic_order_quantity': '50', 'demand_variability': '0.260', 'total_orders': '33104', 'ABC_XYZ_Classification': 'AY', 'excess_stock': '0', 'orders': {'demand': ('2383', '2046', '2487', '3827', '1674', '3118', '2849', '2233', '3888', '2566', '2216', '3817')}}, {'reorder_level': '4620', 'unit_cost': '1623', 'economic_order_variable_cost': '20573.14', 'reorder_quantity': '10', 'safety_stock': '1548', 'quantity_on_hand': '611', 'shortages': '7081', 'sku': 'KR202-245', 'revenue': '335612940', 'average_orders': '2172.0833', 'standard_deviation': '855', 'currency': 'UNKNOWN', 'economic_order_quantity': '36', 'demand_variability': '0.394', 'total_orders': '26065', 'ABC_XYZ_Classification': 'AY', 'excess_stock': '0', 'orders': {'demand': ('1115', '2694', '3038', '3366', '1058', '2724', '2863', '1930', '1787', '838', '3087', '1565')}}, {'reorder_level': '4745', 'unit_cost': '608', 'economic_order_variable_cost': '12784.68', 'reorder_quantity': '17', 'safety_stock': '1578', 'quantity_on_hand': '2192', 'shortages': '0', 'sku': 'KR202-246', 'revenue': '175938212', 'average_orders': '2239.0833', 'standard_deviation': '872', 'currency': 'UNKNOWN', 'economic_order_quantity': '59', 'demand_variability': '0.389', 'total_orders': '26869', 'ABC_XYZ_Classification': 'AY', 'excess_stock': '0', 'orders': {'demand': ('3108', '1197', '2472', '1264', '3179', '3638', '1268', '1581', '3456', '1630', '1788', '2288')}}, {'reorder_level': '4062', 'unit_cost': '1578', 'economic_order_variable_cost': '19126.21', 'reorder_quantity': '10', 'safety_stock': '1331', 'quantity_on_hand': '1017', 'shortages': '5776', 'sku': 'KR202-247', 'revenue': '242427710', 'average_orders': '1930.8333', 'standard_deviation': '735', 'currency': 'UNKNOWN', 'economic_order_quantity': '34', 'demand_variability': '0.381', 'total_orders': '23170', 'ABC_XYZ_Classification': 'AY', 'excess_stock': '0', 'orders': {'demand': ('3439', '1854', '652', '1827', '1645', '2257', '2733', '1337', '2034', '2106', '877', '2409')}}]\n"
     ]
    }
   ],
   "source": [
    "analysis_summary = [demand.orders_summary() for demand in analysed_inventory_profile]\n",
    "print(analysis_summary)"
   ]
  },
  {
   "cell_type": "markdown",
   "metadata": {},
   "source": [
    "For the intrepid reader who did not heed the warning about the prerequisites and is now scratching their head wondering \"what manner of black magic is this,\" here is a quick overview on list comprehensions. In short, the above code is similar to the code below:"
   ]
  },
  {
   "cell_type": "code",
   "execution_count": 5,
   "metadata": {
    "collapsed": false
   },
   "outputs": [],
   "source": [
    "analysis_summary =[]\n",
    "for demand in analysed_inventory_profile:\n",
    "    analysis_summary.append(demand.orders_summary())"
   ]
  },
  {
   "cell_type": "markdown",
   "metadata": {
    "collapsed": false
   },
   "source": [
    "The former is much more readable."
   ]
  },
  {
   "cell_type": "markdown",
   "metadata": {},
   "source": [
    "## Exploring the results\n",
    "\n",
    "To make sense of the results, we can filter our analysis using standard Python scripting techniques. For example to retrieve the whole `summary` for the SKU `KR202-209` we can do something like this:"
   ]
  },
  {
   "cell_type": "code",
   "execution_count": 7,
   "metadata": {
    "collapsed": false
   },
   "outputs": [
    {
     "name": "stdout",
     "output_type": "stream",
     "text": [
      "1000 loops, best of 3: 979 µs per loop\n"
     ]
    }
   ],
   "source": [
    "%%timeit\n",
    "sku_summary = [demand.orders_summary() for demand in analysed_inventory_profile if demand.orders_summary().get('sku')== 'KR202-209']\n"
   ]
  },
  {
   "cell_type": "markdown",
   "metadata": {},
   "source": [
    "The inventory classification ABC XYZ denotes the SKUs contribution to revenue and demand volatility. `AX` SKUs typically exhibit steady demand and contribute 80% of the value of income for the period under analysis.\n",
    "\n",
    "As a more traditional way of grouping SKUs by behaviour, it is also likely to be used for generating inventory policies and for further exploration of the stock profile. To retrieve all the summaries for a particular classification, we could do something like this:"
   ]
  },
  {
   "cell_type": "code",
   "execution_count": 7,
   "metadata": {
    "collapsed": false
   },
   "outputs": [
    {
     "name": "stdout",
     "output_type": "stream",
     "text": [
      "[{'economic_order_quantity': '45', 'ABC_XYZ_Classification': 'AY', 'sku': 'KR202-225', 'shortages': '10542', 'demand_variability': '0.344', 'reorder_level': '7402', 'reorder_quantity': '13', 'unit_cost': '994', 'currency': 'UNKNOWN', 'standard_deviation': '721', 'revenue': '226639815', 'average_orders': '2098.75', 'safety_stock': '2261', 'quantity_on_hand': '2000', 'orders': {'demand': ('2744', '2770', '2697', '1726', '1776', '2264', '332', '2420', '2722', '1161', '1986', '2587')}, 'excess_stock': '0', 'economic_order_variable_cost': '15826.20', 'total_orders': '25185'}, {'economic_order_quantity': '32', 'ABC_XYZ_Classification': 'AY', 'sku': 'KR202-229', 'shortages': '0', 'demand_variability': '0.594', 'reorder_level': '3153', 'reorder_quantity': '9', 'unit_cost': '1154', 'currency': 'UNKNOWN', 'standard_deviation': '752', 'revenue': '197613000', 'average_orders': '1266.75', 'safety_stock': '1362', 'quantity_on_hand': '8939', 'orders': {'demand': ('2114', '198', '1479', '1249', '1475', '744', '407', '2280', '226', '2285', '796', '1948')}, 'excess_stock': '3994', 'economic_order_variable_cost': '13248.03', 'total_orders': '15201'}, {'economic_order_quantity': '37', 'ABC_XYZ_Classification': 'AY', 'sku': 'KR202-230', 'shortages': '5913', 'demand_variability': '0.398', 'reorder_level': '3767', 'reorder_quantity': '11', 'unit_cost': '1194', 'currency': 'UNKNOWN', 'standard_deviation': '702', 'revenue': '211720000', 'average_orders': '1764.3333', 'safety_stock': '1271', 'quantity_on_hand': '349', 'orders': {'demand': ('1023', '1150', '1672', '2026', '1590', '441', '2484', '2300', '2928', '1082', '2064', '2412')}, 'excess_stock': '0', 'economic_order_variable_cost': '15903.60', 'total_orders': '21172'}, {'economic_order_quantity': '36', 'ABC_XYZ_Classification': 'AY', 'sku': 'KR202-232', 'shortages': '6150', 'demand_variability': '0.422', 'reorder_level': '3870', 'reorder_quantity': '11', 'unit_cost': '1274', 'currency': 'UNKNOWN', 'standard_deviation': '749', 'revenue': '159967500', 'average_orders': '1777.4167', 'safety_stock': '1356', 'quantity_on_hand': '234', 'orders': {'demand': ('614', '2138', '962', '2017', '2398', '2963', '2189', '1804', '414', '2016', '1350', '2464')}, 'excess_stock': '0', 'economic_order_variable_cost': '16488.55', 'total_orders': '21329'}, {'economic_order_quantity': '28', 'ABC_XYZ_Classification': 'AY', 'sku': 'KR202-234', 'shortages': '3822', 'demand_variability': '0.454', 'reorder_level': '2540', 'reorder_quantity': '8', 'unit_cost': '1354', 'currency': 'UNKNOWN', 'standard_deviation': '516', 'revenue': '272520000', 'average_orders': '1135.5', 'safety_stock': '934', 'quantity_on_hand': '324', 'orders': {'demand': ('1336', '1478', '865', '533', '1562', '422', '2287', '1302', '1230', '1059', '1153', '399')}, 'excess_stock': '0', 'economic_order_variable_cost': '13586.45', 'total_orders': '13626'}, {'economic_order_quantity': '36', 'ABC_XYZ_Classification': 'AY', 'sku': 'KR202-235', 'shortages': '7339', 'demand_variability': '0.360', 'reorder_level': '4861', 'reorder_quantity': '11', 'unit_cost': '1394', 'currency': 'UNKNOWN', 'standard_deviation': '691', 'revenue': '1372010500', 'average_orders': '1921.5833', 'safety_stock': '1532', 'quantity_on_hand': '850', 'orders': {'demand': ('2565', '2762', '2721', '1431', '845', '2163', '2413', '2227', '1753', '740', '1139', '2300')}, 'excess_stock': '0', 'economic_order_variable_cost': '17933.46', 'total_orders': '23059'}, {'economic_order_quantity': '32', 'ABC_XYZ_Classification': 'AY', 'sku': 'KR202-239', 'shortages': '5737', 'demand_variability': '0.488', 'reorder_level': '3819', 'reorder_quantity': '9', 'unit_cost': '1554', 'currency': 'UNKNOWN', 'standard_deviation': '811', 'revenue': '778089000', 'average_orders': '1662.5833', 'safety_stock': '1468', 'quantity_on_hand': '433', 'orders': {'demand': ('2717', '2186', '2300', '677', '2157', '2328', '1917', '2519', '561', '281', '1162', '1146')}, 'excess_stock': '0', 'economic_order_variable_cost': '17612.47', 'total_orders': '19951'}, {'economic_order_quantity': '52', 'ABC_XYZ_Classification': 'AY', 'sku': 'KR202-241', 'shortages': '10328', 'demand_variability': '0.437', 'reorder_level': '7586', 'reorder_quantity': '15', 'unit_cost': '769', 'currency': 'UNKNOWN', 'standard_deviation': '950', 'revenue': '209126826', 'average_orders': '2176.5', 'safety_stock': '2719', 'quantity_on_hand': '2125', 'orders': {'demand': ('3050', '1507', '3637', '1112', '1963', '1675', '898', '1986', '2262', '3895', '1229', '2904')}, 'excess_stock': '0', 'economic_order_variable_cost': '14175.73', 'total_orders': '26118'}, {'economic_order_quantity': '32', 'ABC_XYZ_Classification': 'AY', 'sku': 'KR202-242', 'shortages': '0', 'demand_variability': '0.429', 'reorder_level': '3080', 'reorder_quantity': '9', 'unit_cost': '1819', 'currency': 'UNKNOWN', 'standard_deviation': '853', 'revenue': '315548500', 'average_orders': '1988.3333', 'safety_stock': '1092', 'quantity_on_hand': '1253', 'orders': {'demand': ('1875', '2368', '830', '823', '868', '1409', '1845', '3095', '3247', '1894', '2558', '3048')}, 'excess_stock': '0', 'economic_order_variable_cost': '20838.38', 'total_orders': '23860'}, {'economic_order_quantity': '48', 'ABC_XYZ_Classification': 'AY', 'sku': 'KR202-243', 'shortages': '10227', 'demand_variability': '0.325', 'reorder_level': '6655', 'reorder_quantity': '14', 'unit_cost': '1120', 'currency': 'UNKNOWN', 'standard_deviation': '882', 'revenue': '478134012', 'average_orders': '2713.8333', 'safety_stock': '1954', 'quantity_on_hand': '1128', 'orders': {'demand': ('1717', '593', '3006', '2935', '3139', '2753', '3247', '3845', '1720', '3413', '3399', '2799')}, 'excess_stock': '0', 'economic_order_variable_cost': '19103.09', 'total_orders': '32566'}, {'economic_order_quantity': '50', 'ABC_XYZ_Classification': 'AY', 'sku': 'KR202-244', 'shortages': '13200', 'demand_variability': '0.260', 'reorder_level': '8223', 'reorder_quantity': '14', 'unit_cost': '1067', 'currency': 'UNKNOWN', 'standard_deviation': '718', 'revenue': '397148688', 'average_orders': '2758.6667', 'safety_stock': '2054', 'quantity_on_hand': '1191', 'orders': {'demand': ('2383', '2046', '2487', '3827', '1674', '3118', '2849', '2233', '3888', '2566', '2216', '3817')}, 'excess_stock': '0', 'economic_order_variable_cost': '18799.00', 'total_orders': '33104'}, {'economic_order_quantity': '36', 'ABC_XYZ_Classification': 'AY', 'sku': 'KR202-245', 'shortages': '7081', 'demand_variability': '0.394', 'reorder_level': '4620', 'reorder_quantity': '10', 'unit_cost': '1623', 'currency': 'UNKNOWN', 'standard_deviation': '855', 'revenue': '335612940', 'average_orders': '2172.0833', 'safety_stock': '1548', 'quantity_on_hand': '611', 'orders': {'demand': ('1115', '2694', '3038', '3366', '1058', '2724', '2863', '1930', '1787', '838', '3087', '1565')}, 'excess_stock': '0', 'economic_order_variable_cost': '20573.14', 'total_orders': '26065'}, {'economic_order_quantity': '59', 'ABC_XYZ_Classification': 'AY', 'sku': 'KR202-246', 'shortages': '0', 'demand_variability': '0.389', 'reorder_level': '4745', 'reorder_quantity': '17', 'unit_cost': '608', 'currency': 'UNKNOWN', 'standard_deviation': '872', 'revenue': '175938212', 'average_orders': '2239.0833', 'safety_stock': '1578', 'quantity_on_hand': '2192', 'orders': {'demand': ('3108', '1197', '2472', '1264', '3179', '3638', '1268', '1581', '3456', '1630', '1788', '2288')}, 'excess_stock': '0', 'economic_order_variable_cost': '12784.68', 'total_orders': '26869'}, {'economic_order_quantity': '34', 'ABC_XYZ_Classification': 'AY', 'sku': 'KR202-247', 'shortages': '5776', 'demand_variability': '0.381', 'reorder_level': '4062', 'reorder_quantity': '10', 'unit_cost': '1578', 'currency': 'UNKNOWN', 'standard_deviation': '735', 'revenue': '242427710', 'average_orders': '1930.8333', 'safety_stock': '1331', 'quantity_on_hand': '1017', 'orders': {'demand': ('3439', '1854', '652', '1827', '1645', '2257', '2733', '1337', '2034', '2106', '877', '2409')}, 'excess_stock': '0', 'economic_order_variable_cost': '19126.21', 'total_orders': '23170'}]\n"
     ]
    }
   ],
   "source": [
    "ay_classification_summary = [demand.orders_summary() for demand in analysed_inventory_profile if demand.orders_summary().get('ABC_XYZ_Classification')== 'AY']\n",
    "print(ay_classification_summary)"
   ]
  },
  {
   "cell_type": "markdown",
   "metadata": {},
   "source": [
    "Using a built-in feature of the library provides a quicker way to filter the results. For example a quciker way to filter for SKU `KR202-209`, is through the use of `Inventory` class in the `summarise` module."
   ]
  },
  {
   "cell_type": "code",
   "execution_count": 8,
   "metadata": {
    "collapsed": true
   },
   "outputs": [],
   "source": [
    "from supplychainpy.inventory.summarise import Inventory\n",
    "filtered_summary = Inventory(analysed_inventory_profile)"
   ]
  },
  {
   "cell_type": "code",
   "execution_count": 9,
   "metadata": {
    "collapsed": false
   },
   "outputs": [
    {
     "name": "stdout",
     "output_type": "stream",
     "text": [
      "1000 loops, best of 3: 188 µs per loop\n"
     ]
    }
   ],
   "source": [
    "%%timeit\n",
    "sku_summary = [summary for summary in filtered_summary.describe_sku('KR202-209')]\n",
    "#print(sku_summary)"
   ]
  },
  {
   "cell_type": "markdown",
   "metadata": {},
   "source": [
    "Using the import Inventory specifically built to filter the analysis is faster and syntactically cleaner for easier to read and understand the code. The `Inventory` summary class also provides a more detailed overview of the SKU with additional KPIs and metric in the context of the whole stock profile. The `orders_summary` method ranks and performs some comparative analysis for more insight.\n",
    "\n",
    "The descriptive summary includes:\n",
    "\n",
    "- shortage_rank\n",
    "- min_orders\n",
    "- excess_units\n",
    "- revenue_rank\n",
    "- excess_rank\n",
    "- average_orders\n",
    "- gross_profit_margin\n",
    "- markup_percentage\n",
    "- max_order\n",
    "- shortage_cost\n",
    "- quantity_on_hand\n",
    "- inventory_turns\n",
    "- sku_id\n",
    "- retail_price\n",
    "- revenue_rank \n",
    "- shortage_units\n",
    "- unit_cost\n",
    "- classification\n",
    "- safety_stock_cost\n",
    "- safety_stock_units\n",
    "- safety_stock_rank\n",
    "- percentage_contribution_revenue\n",
    "- gross_profit_margin\n",
    "- shortage_rank\n",
    "- inventory_traffic_light\n",
    "- unit_cost_rank\n",
    "- excess_cost\n",
    "- excess_units\n",
    "- markup_percentage\n",
    "- revenue\n",
    "\n",
    "Further summaries can be retrieved, for instance, reviews at the inventory classification level of detail can be quite useful when exploring inventory policies:"
   ]
  },
  {
   "cell_type": "code",
   "execution_count": 10,
   "metadata": {
    "collapsed": false
   },
   "outputs": [
    {
     "name": "stdout",
     "output_type": "stream",
     "text": [
      "[{'AY': {'revenue': 5372496600.0}}]\n"
     ]
    }
   ],
   "source": [
    "classification_summary =  [summary for summary in filtered_summary.abc_xyz_summary(classification=('AY',), category=('revenue',))]\n",
    "print(classification_summary)"
   ]
  },
  {
   "cell_type": "markdown",
   "metadata": {},
   "source": [
    "Now we know the total revenue generated by the `AY` SKU class. There is another, slightly more fun way to arrive at this number using `Dash` but more on that later."
   ]
  },
  {
   "cell_type": "code",
   "execution_count": 11,
   "metadata": {
    "collapsed": false
   },
   "outputs": [
    {
     "name": "stdout",
     "output_type": "stream",
     "text": [
      "['KR202-241', 'KR202-231', 'KR202-233', 'KR202-227', 'KR202-225', 'KR202-212', 'KR202-240', 'KR202-244', 'KR202-236', 'KR202-211', 'KR202-243']\n"
     ]
    }
   ],
   "source": [
    "top_10_safety_stock_skus =  [summary.get('sku')for summary in filtered_summary.rank_summary(attribute='safety_stock', count=10)]\n",
    "print(top_10_safety_stock_skus)"
   ]
  },
  {
   "cell_type": "markdown",
   "metadata": {},
   "source": [
    "Let us add the `safety_stock` and create a tuple to see that the results explicitly."
   ]
  },
  {
   "cell_type": "code",
   "execution_count": 12,
   "metadata": {
    "collapsed": false
   },
   "outputs": [
    {
     "name": "stdout",
     "output_type": "stream",
     "text": [
      "[('KR202-241', '2719'), ('KR202-231', '2484'), ('KR202-233', '2472'), ('KR202-227', '2277'), ('KR202-225', '2261'), ('KR202-212', '2164'), ('KR202-240', '2120'), ('KR202-244', '2054'), ('KR202-236', '2045'), ('KR202-211', '2020'), ('KR202-243', '1954')]\n"
     ]
    }
   ],
   "source": [
    "top_10_safety_stock_values =  [(summary.get('sku'), summary.get('safety_stock'))for summary in filtered_summary.rank_summary(attribute='safety_stock', count=10)]\n",
    "print(top_10_safety_stock_values)"
   ]
  },
  {
   "cell_type": "markdown",
   "metadata": {},
   "source": [
    "We can then pass back the list of `top_10_safety_stock_skus` back into the inventory filter and get their breakdown."
   ]
  },
  {
   "cell_type": "code",
   "execution_count": 13,
   "metadata": {
    "collapsed": false
   },
   "outputs": [],
   "source": [
    "top_10_safety_stock_summary = [summary for summary in filtered_summary.describe_sku(*top_10_safety_stock_skus)]\n",
    "#print(top_10_safety_stock_summary)"
   ]
  },
  {
   "cell_type": "markdown",
   "metadata": {},
   "source": [
    "We have only covered a few use cases, but we have already achieved a significant amount of analysis with relatively few line of code. The equivalent in Excel would require much more work and many more formulas."
   ]
  }
 ],
 "metadata": {
  "kernelspec": {
   "display_name": "Python 3",
   "language": "python",
   "name": "python3"
  },
  "language_info": {
   "codemirror_mode": {
    "name": "ipython",
    "version": 3
   },
   "file_extension": ".py",
   "mimetype": "text/x-python",
   "name": "python",
   "nbconvert_exporter": "python",
   "pygments_lexer": "ipython3",
   "version": "3.5.2"
  }
 },
 "nbformat": 4,
 "nbformat_minor": 1
}
