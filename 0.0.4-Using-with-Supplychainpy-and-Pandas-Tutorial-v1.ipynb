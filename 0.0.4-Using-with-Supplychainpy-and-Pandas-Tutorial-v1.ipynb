{
 "cells": [
  {
   "cell_type": "markdown",
   "metadata": {},
   "source": [
    "# Using Supplychainpy with Pandas\n",
    "** *by Kevin Fasusi* **\n",
    "\n",
    "In workbook 0.0.4-Supplychainpy-Inventory-Analysis, we used standard Python types (dict, list, tuple, etc..). This analysis can also be conducted using a Pandas `DataFrame` giving us many more options for quick and easy analysis. \n",
    "\n",
    "To use Supplychainpy library with Pandas, we first need to import the right modules and read a CSV file to a Pandas DataFrame. The `%matplotlib inline` statement is used so we can see the matplotlib plots in the jupyter notebook.\n",
    "First, we read the raw data into the Pandas `DataFrame`, as shown below."
   ]
  },
  {
   "cell_type": "code",
   "execution_count": 1,
   "metadata": {
    "collapsed": false
   },
   "outputs": [],
   "source": [
    "%matplotlib inline\n",
    "\n",
    "import matplotlib\n",
    "import pandas as pd\n",
    "\n",
    "from supplychainpy.model_inventory import analyse\n",
    "from supplychainpy.model_demand import simple_exponential_smoothing_forecast\n",
    "from supplychainpy.sample_data.config import ABS_FILE_PATH\n",
    "from decimal import Decimal\n",
    "raw_df =pd.read_csv(ABS_FILE_PATH['COMPLETE_CSV_SM'])"
   ]
  },
  {
   "cell_type": "markdown",
   "metadata": {},
   "source": [
    "Passing a Pandas `DataFrame` as a keyword argument (df=) returns a `DataFrame` with the inventory profile analysed. Excluding the import statements, this can be achieved in 3 lines of code. There are several columns, so the print statement has been limited to a few ('sku','quantity_on_hand', 'excess_stock', 'shortages', 'ABC_XYZ_Classification')."
   ]
  },
  {
   "cell_type": "code",
   "execution_count": 8,
   "metadata": {
    "collapsed": false
   },
   "outputs": [
    {
     "name": "stdout",
     "output_type": "stream",
     "text": [
      "          sku quantity_on_hand excess_stock shortages ABC_XYZ_Classification\n",
      "0   KR202-209             1003            0      5969                     BY\n",
      "1   KR202-210             3224            0         0                     CY\n",
      "2   KR202-211              390            0      7099                     CY\n",
      "3   KR202-212              390            0      7759                     CY\n",
      "4   KR202-213             2095            0         0                     CY\n",
      "5   KR202-214               55            0      5824                     CY\n",
      "6   KR202-215             4308          732         0                     CY\n",
      "7   KR202-216               34            0      6999                     CY\n",
      "8   KR202-217              390            0      7245                     BY\n",
      "9   KR202-218             3535            0         0                     CZ\n",
      "10  KR202-219              334            0      5917                     CZ\n",
      "11  KR202-220             3434            0         0                     BY\n",
      "12  KR202-221             4433            0         0                     BY\n",
      "13  KR202-222             3435            0         0                     CZ\n",
      "14  KR202-223            34533        30030         0                     BY\n",
      "15  KR202-224               33            0      5580                     CY\n",
      "16  KR202-225             2000            0     10542                     AY\n",
      "17  KR202-226             4344            0         0                     CZ\n",
      "18  KR202-227              489            0      7587                     BZ\n",
      "19  KR202-228             9439         3572         0                     AZ\n",
      "20  KR202-229             8939         3994         0                     AY\n",
      "21  KR202-230              349            0      5913                     AY\n",
      "22  KR202-231             3434            0         0                     AZ\n",
      "23  KR202-232              234            0      6150                     AY\n",
      "24  KR202-233              349            0      6856                     CZ\n",
      "25  KR202-234              324            0      3822                     AY\n",
      "26  KR202-235              850            0      7339                     AY\n",
      "27  KR202-236             4930            0         0                     CZ\n",
      "28  KR202-237             9483         3742         0                     CZ\n",
      "29  KR202-238              839            0      5693                     BY\n",
      "30  KR202-239              433            0      5737                     AY\n",
      "31  KR202-240              390            0      7094                     CZ\n",
      "32  KR202-241             2125            0     10328                     AY\n",
      "33  KR202-242             1253            0         0                     AY\n",
      "34  KR202-243             1128            0     10227                     AY\n",
      "35  KR202-244             1191            0     13200                     AY\n",
      "36  KR202-245              611            0      7081                     AY\n",
      "37  KR202-246             2192            0         0                     AY\n",
      "38  KR202-247             1017            0      5776                     AY\n"
     ]
    }
   ],
   "source": [
    "orders_df = raw_df[['Sku','jan','feb','mar','apr', 'may', 'jun', 'jul', 'aug', 'sep', 'oct', 'nov', 'dec']]\n",
    "#orders_df.set_index('Sku')\n",
    "analyse_kv =dict(\n",
    "    df=raw_df, \n",
    "    start=1, \n",
    "    interval_length=12, \n",
    "    interval_type='months',\n",
    "    z_value=Decimal(1.28), \n",
    "    reorder_cost=Decimal(400), \n",
    "    retail_price=Decimal(455), \n",
    "    file_type='csv', \n",
    "    currency='USD'\n",
    ")\n",
    "analysis_df = analyse( **analyse_kv)\n",
    "print(analysis_df[['sku','quantity_on_hand', 'excess_stock', 'shortages', 'ABC_XYZ_Classification']])"
   ]
  },
  {
   "cell_type": "markdown",
   "metadata": {
    "collapsed": true
   },
   "source": [
    "Before we can make a forecast, we need to select an SKU from the `analysis_df` variable. After selection, we slice the row to retrieve only orders data and convert to a `Series`. "
   ]
  },
  {
   "cell_type": "code",
   "execution_count": null,
   "metadata": {
    "collapsed": false
   },
   "outputs": [],
   "source": [
    "row_ds = raw_df[raw_df['Sku']=='KR202-212'].squeeze()\n",
    "print(row_ds[1:12])"
   ]
  },
  {
   "cell_type": "markdown",
   "metadata": {},
   "source": [
    "Now that we have a `series` of orders data fro the SKU `KR202-212`, we can now perform a forecast using the `model_demand` module. We can perform a simple_exponential_smoothing_forecast by passing the forecasting function the orders data using the keyword parameter `ds=`."
   ]
  },
  {
   "cell_type": "code",
   "execution_count": null,
   "metadata": {
    "collapsed": false
   },
   "outputs": [],
   "source": [
    "ses_df = simple_exponential_smoothing_forecast(ds=row_ds[1:12], length=12, smoothing_level_constant=0.5)\n",
    "print(ses_df)"
   ]
  },
  {
   "cell_type": "code",
   "execution_count": null,
   "metadata": {
    "collapsed": false
   },
   "outputs": [],
   "source": [
    "print(ses_df.get('forecast', 'UNKNOWN'))"
   ]
  },
  {
   "cell_type": "markdown",
   "metadata": {},
   "source": [
    "If we check the statistcs for the forecast we can see whether there is a linear trend and subsequently if the forecast is useful."
   ]
  },
  {
   "cell_type": "code",
   "execution_count": null,
   "metadata": {
    "collapsed": false
   },
   "outputs": [],
   "source": [
    "print(ses_df.get('statistics', 'UNKNOWN'),'\\n mape: {}'.format(ses_df.get('mape', 'UNKNOWN')))"
   ]
  },
  {
   "cell_type": "markdown",
   "metadata": {},
   "source": [
    "The breakdown of the forecast is returned with the `forecast` and `statistics`."
   ]
  },
  {
   "cell_type": "code",
   "execution_count": null,
   "metadata": {
    "collapsed": false
   },
   "outputs": [],
   "source": [
    "print(ses_df.get('forecast_breakdown', 'UNKNOWN'))"
   ]
  },
  {
   "cell_type": "markdown",
   "metadata": {},
   "source": [
    "We can convert the `forecast_breakdown` back into a `DataFrame`."
   ]
  },
  {
   "cell_type": "code",
   "execution_count": null,
   "metadata": {
    "collapsed": false
   },
   "outputs": [],
   "source": [
    "forecast_breakdown_df = pd.DataFrame(ses_df.get('forecast_breakdown', 'UNKNOWN'))\n",
    "print(forecast_breakdown_df)"
   ]
  },
  {
   "cell_type": "markdown",
   "metadata": {},
   "source": [
    "Let's look at the `demand` and the `one_step_forecast` in a chart."
   ]
  },
  {
   "cell_type": "code",
   "execution_count": null,
   "metadata": {
    "collapsed": false
   },
   "outputs": [],
   "source": [
    "forecast_breakdown_df.plot(x='t', y=['one_step_forecast','demand'])"
   ]
  },
  {
   "cell_type": "markdown",
   "metadata": {},
   "source": [
    "We can also create the data points for the regression line."
   ]
  },
  {
   "cell_type": "code",
   "execution_count": null,
   "metadata": {
    "collapsed": false
   },
   "outputs": [],
   "source": [
    "regression = {'regression': [(ses_df.get('statistics')['slope']* i ) + ses_df.get('statistics')['intercept'] for i in range(1,12)]}\n",
    "print(regression)"
   ]
  },
  {
   "cell_type": "markdown",
   "metadata": {},
   "source": [
    "We can add the regression data points to the forecast breakdown DataFrame."
   ]
  },
  {
   "cell_type": "code",
   "execution_count": null,
   "metadata": {
    "collapsed": false
   },
   "outputs": [],
   "source": [
    "forecast_breakdown_df['regression'] = regression.get('regression')\n",
    "print(forecast_breakdown_df)"
   ]
  },
  {
   "cell_type": "code",
   "execution_count": null,
   "metadata": {
    "collapsed": false
   },
   "outputs": [],
   "source": [
    "forecast_breakdown_df.plot(x='t', y=['one_step_forecast','demand', 'regression'])"
   ]
  },
  {
   "cell_type": "markdown",
   "metadata": {},
   "source": [
    "We have a choice now; we can use another alpha and repeat the analysis to reduce the Standard Error or use supplychainpy's `optimise=True` parameter to use an evolutionary algorithm and get closer to an optimal solution."
   ]
  },
  {
   "cell_type": "code",
   "execution_count": null,
   "metadata": {
    "collapsed": false
   },
   "outputs": [],
   "source": [
    "opt_ses_df = simple_exponential_smoothing_forecast(ds=row_ds[1:12], length=12, smoothing_level_constant=0.4,optimise=True)\n",
    "print(opt_ses_df)"
   ]
  },
  {
   "cell_type": "code",
   "execution_count": null,
   "metadata": {
    "collapsed": false
   },
   "outputs": [],
   "source": [
    "print(opt_ses_df.get('statistics', 'UNKNOWN'),'\\n mape: {}'.format(opt_ses_df.get('mape', 'UNKNOWN')))"
   ]
  },
  {
   "cell_type": "code",
   "execution_count": null,
   "metadata": {
    "collapsed": false
   },
   "outputs": [],
   "source": [
    "print(opt_ses_df.get('forecast', 'UNKNOWN')) "
   ]
  },
  {
   "cell_type": "code",
   "execution_count": null,
   "metadata": {
    "collapsed": false
   },
   "outputs": [],
   "source": [
    "optimised_regression = {'regression': [(opt_ses_df.get('statistics')['slope']* i ) + opt_ses_df.get('statistics')['intercept'] for i in range(1,12)]}\n",
    "print(optimised_regression)"
   ]
  },
  {
   "cell_type": "code",
   "execution_count": null,
   "metadata": {
    "collapsed": false
   },
   "outputs": [],
   "source": [
    "opt_forecast_breakdown_df = pd.DataFrame(opt_ses_df.get('forecast_breakdown', 'UNKNOWN'))"
   ]
  },
  {
   "cell_type": "code",
   "execution_count": null,
   "metadata": {
    "collapsed": false
   },
   "outputs": [],
   "source": [
    "opt_forecast_breakdown_df['regression'] = optimised_regression.get('regression')\n",
    "print(opt_forecast_breakdown_df)"
   ]
  },
  {
   "cell_type": "code",
   "execution_count": null,
   "metadata": {
    "collapsed": false
   },
   "outputs": [],
   "source": [
    "opt_forecast_breakdown_df.plot(x='t', y=['one_step_forecast','demand', 'regression'])"
   ]
  }
 ],
 "metadata": {
  "kernelspec": {
   "display_name": "Python 3",
   "language": "python",
   "name": "python3"
  },
  "language_info": {
   "codemirror_mode": {
    "name": "ipython",
    "version": 3
   },
   "file_extension": ".py",
   "mimetype": "text/x-python",
   "name": "python",
   "nbconvert_exporter": "python",
   "pygments_lexer": "ipython3",
   "version": "3.5.2"
  }
 },
 "nbformat": 4,
 "nbformat_minor": 0
}
