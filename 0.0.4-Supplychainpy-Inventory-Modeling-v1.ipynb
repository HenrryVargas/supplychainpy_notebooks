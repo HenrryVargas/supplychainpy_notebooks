{
 "cells": [
  {
   "cell_type": "markdown",
   "metadata": {},
   "source": [
    "# Inventory Modeling and Analysis Made Easy with Supplychainpy\n",
    "** *by Kevin Fasusi* **\n",
    "\n",
    "This workbook assumes some familiarity and proficiency in programming with Python. Understanding list comprehensions, conditional logic and functions are an essential prerequisite for continuing with this workbook.\n",
    "\n",
    "Typically, inventory analysis using Excel requires several formulas, manual processes, possibly some pivot tables and in some cases VBA to achieve. Using the supplychainpy library can reduce the time taken and effort made for the same analysis."
   ]
  },
  {
   "cell_type": "code",
   "execution_count": null,
   "metadata": {
    "collapsed": true
   },
   "outputs": [],
   "source": [
    "from supplychainpy.model_inventory import analyse\n",
    "from decimal import Decimal\n",
    "from supplychainpy.sample_data.config import ABS_FILE_PATH"
   ]
  },
  {
   "cell_type": "markdown",
   "metadata": {},
   "source": [
    "The first two imports are mandatory; the second import is necessary for using the sample data in the `supplychainpy` library. When working with a different file, supply the file path to the `file_path` parameter. The data provided for analysis can be from a `CSV` or a database ETL process.\n",
    "\n",
    "The sample data is a `CSV` formatted file:"
   ]
  },
  {
   "cell_type": "code",
   "execution_count": null,
   "metadata": {
    "collapsed": false
   },
   "outputs": [],
   "source": [
    "with open(ABS_FILE_PATH['COMPLETE_CSV_SM'],'r') as raw_data:\n",
    "    for line in raw_data:\n",
    "        print(line)"
   ]
  },
  {
   "cell_type": "markdown",
   "metadata": {},
   "source": [
    "It is probable that getting the data into this format will require 'extracting' from a database and 'transforming' data before 'loading' into the `analyse` function. To perform the ETL, an ORM like SQLAlchemy or appropriate DB-API for the database in question may be of use. Supplychainpy works with Pandas, so performing the transformations using Pandas may be an idea. The `DataFrame` or file passed as an argument must be identical to the format above (future versions of supplychainpy will be more lenient and attempt to identify if a minimum requirement is satisfied).\n",
    "\n",
    "The ETL process is not covered in this workbook but on the 'roadmap' for `supplychainpy` is the automation of this process. \n",
    "\n",
    "So now that we have the data in the correct format, we can proceed with the analysis."
   ]
  },
  {
   "cell_type": "code",
   "execution_count": null,
   "metadata": {
    "collapsed": true
   },
   "outputs": [],
   "source": [
    "#%%timeit\n",
    "analysed_inventory_profile= analyse(file_path=ABS_FILE_PATH['COMPLETE_CSV_SM'],\n",
    "                                                             z_value=Decimal(1.28),\n",
    "                                                             reorder_cost=Decimal(400),\n",
    "                                                             file_type='csv')\n"
   ]
  },
  {
   "cell_type": "markdown",
   "metadata": {},
   "source": [
    "The variable `analysed_inventory_profile` now contains a collection (list) of `UncertainDemand` objects (one per SKU). Each object contains the analysis for each SKU. The analysis include the following:\n",
    "\n",
    "- safety stock\n",
    "- total_orders\n",
    "- standard_deviation\n",
    "- quantity_on_hand': '1003\n",
    "- economic_order_variable_cost\n",
    "- sku\n",
    "- economic_order_quantity\n",
    "- unit_cost\n",
    "- demand_variability\n",
    "- average_orders\n",
    "- excess_stock\n",
    "- currency\n",
    "- ABC_XYZ_Classification\n",
    "- shortages\n",
    "- reorder_level\n",
    "- revenue \n",
    "- reorder_quantity \n",
    "- safety_stock\n",
    "- orders\n",
    "\n",
    "The listed summary items can be retrieved by calling the method `orders_summary()` on each object. The quickest way to do this is with a list comprehension."
   ]
  },
  {
   "cell_type": "code",
   "execution_count": null,
   "metadata": {
    "collapsed": false
   },
   "outputs": [],
   "source": [
    "analysis_summary = [demand.orders_summary() for demand in analysed_inventory_profile]\n",
    "print(analysis_summary)"
   ]
  },
  {
   "cell_type": "markdown",
   "metadata": {},
   "source": [
    "For the intrepid reader who did not heed the warning about the prerequisites and is now scratching their head wondering \"what manner of black magic is this,\" here is a quick overview on list comprehensions. In short, the above code is similar to the code below:"
   ]
  },
  {
   "cell_type": "code",
   "execution_count": null,
   "metadata": {
    "collapsed": false
   },
   "outputs": [],
   "source": [
    "analysis_summary =[]\n",
    "for demand in analysed_inventory_profile:\n",
    "    analysis_summary.append(demand.orders_summary())"
   ]
  },
  {
   "cell_type": "markdown",
   "metadata": {
    "collapsed": false
   },
   "source": [
    "The former is much more readable."
   ]
  },
  {
   "cell_type": "markdown",
   "metadata": {},
   "source": [
    "## Exploring the results\n",
    "\n",
    "To make sense of the results, we can filter our analysis using standard Python scripting techniques. For example to retrieve the whole `summary` for the SKU `KR202-209` we can do something like this:"
   ]
  },
  {
   "cell_type": "code",
   "execution_count": null,
   "metadata": {
    "collapsed": false
   },
   "outputs": [],
   "source": [
    "%%timeit\n",
    "sku_summary = [demand.orders_summary() for demand in analysed_inventory_profile if demand.orders_summary().get('sku')== 'KR202-209']\n"
   ]
  },
  {
   "cell_type": "markdown",
   "metadata": {},
   "source": [
    "The inventory classification ABC XYZ denotes the SKUs contribution to revenue and demand volatility. `AX` SKUs typically exhibit steady demand and contribute 80% of the value of income for the period under analysis.\n",
    "\n",
    "As a more traditional way of grouping SKUs by behaviour, it is also likely to be used for generating inventory policies and for further exploration of the stock profile. To retrieve all the summaries for a particular classification, we could do something like this:"
   ]
  },
  {
   "cell_type": "code",
   "execution_count": null,
   "metadata": {
    "collapsed": false
   },
   "outputs": [],
   "source": [
    "ay_classification_summary = [demand.orders_summary() for demand in analysed_inventory_profile if demand.orders_summary().get('ABC_XYZ_Classification')== 'AY']\n",
    "print(ay_classification_summary)"
   ]
  },
  {
   "cell_type": "markdown",
   "metadata": {},
   "source": [
    "Using a built-in feature of the library provides a quicker way to filter the results. For example a quciker way to filter for SKU `KR202-209`, is through the use of `Inventory` class in the `summarise` module."
   ]
  },
  {
   "cell_type": "code",
   "execution_count": null,
   "metadata": {
    "collapsed": true
   },
   "outputs": [],
   "source": [
    "from supplychainpy.inventory.summarise import Inventory\n",
    "filtered_summary = Inventory(analysed_inventory_profile)"
   ]
  },
  {
   "cell_type": "code",
   "execution_count": null,
   "metadata": {
    "collapsed": false
   },
   "outputs": [],
   "source": [
    "%%timeit\n",
    "sku_summary = [summary for summary in filtered_summary.describe_sku('KR202-209')]\n",
    "#print(sku_summary)"
   ]
  },
  {
   "cell_type": "markdown",
   "metadata": {},
   "source": [
    "Using the import Inventory specifically built to filter the analysis is faster and syntactically cleaner for easier to read and understand the code. The `Inventory` summary class also provides a more detailed overview of the SKU with additional KPIs and metric in the context of the whole stock profile. The `orders_summary` method ranks and performs some comparative analysis for more insight.\n",
    "\n",
    "The descriptive summary includes:\n",
    "\n",
    "- shortage_rank\n",
    "- min_orders\n",
    "- excess_units\n",
    "- revenue_rank\n",
    "- excess_rank\n",
    "- average_orders\n",
    "- gross_profit_margin\n",
    "- markup_percentage\n",
    "- max_order\n",
    "- shortage_cost\n",
    "- quantity_on_hand\n",
    "- inventory_turns\n",
    "- sku_id\n",
    "- retail_price\n",
    "- revenue_rank \n",
    "- shortage_units\n",
    "- unit_cost\n",
    "- classification\n",
    "- safety_stock_cost\n",
    "- safety_stock_units\n",
    "- safety_stock_rank\n",
    "- percentage_contribution_revenue\n",
    "- gross_profit_margin\n",
    "- shortage_rank\n",
    "- inventory_traffic_light\n",
    "- unit_cost_rank\n",
    "- excess_cost\n",
    "- excess_units\n",
    "- markup_percentage\n",
    "- revenue\n",
    "\n",
    "Further summaries can be retrieved, for instance, reviews at the inventory classification level of detail can be quite useful when exploring inventory policies:"
   ]
  },
  {
   "cell_type": "code",
   "execution_count": null,
   "metadata": {
    "collapsed": false
   },
   "outputs": [],
   "source": [
    "classification_summary =  [summary for summary in filtered_summary.abc_xyz_summary(classification=('AY',), category=('revenue',))]\n",
    "print(classification_summary)"
   ]
  },
  {
   "cell_type": "markdown",
   "metadata": {},
   "source": [
    "Now we know the total revenue generated by the `AY` SKU class. There is another, slightly more fun way to arrive at this number using `Dash` but more on that later."
   ]
  },
  {
   "cell_type": "code",
   "execution_count": null,
   "metadata": {
    "collapsed": false
   },
   "outputs": [],
   "source": [
    "top_10_safety_stock_skus =  [summary.get('sku')for summary in filtered_summary.rank_summary(attribute='safety_stock', count=10)]\n",
    "print(top_10_safety_stock_skus)"
   ]
  },
  {
   "cell_type": "markdown",
   "metadata": {},
   "source": [
    "Let us add the `safety_stock` and create a tuple to see that the results explicitly."
   ]
  },
  {
   "cell_type": "code",
   "execution_count": null,
   "metadata": {
    "collapsed": false
   },
   "outputs": [],
   "source": [
    "top_10_safety_stock_values =  [(summary.get('sku'), summary.get('safety_stock'))for summary in filtered_summary.rank_summary(attribute='safety_stock', count=10)]\n",
    "print(top_10_safety_stock_values)"
   ]
  },
  {
   "cell_type": "markdown",
   "metadata": {},
   "source": [
    "We can then pass back the list of `top_10_safety_stock_skus` back into the inventory filter and get their breakdown."
   ]
  },
  {
   "cell_type": "code",
   "execution_count": null,
   "metadata": {
    "collapsed": false
   },
   "outputs": [],
   "source": [
    "top_10_safety_stock_summary = [summary for summary in filtered_summary.describe_sku(*top_10_safety_stock_skus)]\n",
    "#print(top_10_safety_stock_summary)"
   ]
  },
  {
   "cell_type": "markdown",
   "metadata": {},
   "source": [
    "We have only covered a few use cases, but we have already achieved a significant amount of analysis with relatively few line of code. The equivalent in Excel would require much more work and many more formulas."
   ]
  }
 ],
 "metadata": {
  "kernelspec": {
   "display_name": "Python 3",
   "language": "python",
   "name": "python3"
  },
  "language_info": {
   "codemirror_mode": {
    "name": "ipython",
    "version": 3
   },
   "file_extension": ".py",
   "mimetype": "text/x-python",
   "name": "python",
   "nbconvert_exporter": "python",
   "pygments_lexer": "ipython3",
   "version": "3.5.2"
  }
 },
 "nbformat": 4,
 "nbformat_minor": 1
}
